{
 "cells": [
  {
   "cell_type": "markdown",
   "id": "bff18a69",
   "metadata": {},
   "source": [
    "# Relax Challenge Notebook\n",
    "### By [Anthony Medina](https://www.linkedin.com/in/anthony-medina-math/)\n",
    "\n",
    "1. Notebook Objectives/Prompt\n",
    "2. Strategy\n",
    "3. Imports\n",
    "4. Initial Data Loading\n",
    "5. Initial Exploration\n",
    "6. Creating a Feature Column\n",
    "7. Features\n",
    "8. Modeling\n",
    "9. Explanation and Conclusions\n",
    "10. Next Steps"
   ]
  },
  {
   "cell_type": "markdown",
   "id": "c878a50c",
   "metadata": {},
   "source": [
    "### 1. Notebook Objectives\n",
    "The data is available as two attached CSV files:\n",
    "\n",
    "takehome_user_engagement.csv - Table of dates of loggins\n",
    "\n",
    "takehome_users.csv - Table of people who have signed up in the last 2 years\n",
    "\n",
    "Defining an \"adopted user\" as a user who has logged into the product on three separate days in at least one seven-day period, identify which factors predict future user adoption."
   ]
  },
  {
   "cell_type": "markdown",
   "id": "beb630cd",
   "metadata": {},
   "source": [
    "### 2. Strategy\n",
    "* Create a function that tells if a user is an **adopted user** or not. \n",
    "* Target Variable is the **adopted_user** True False column.\n",
    "* Join the target column on the first data set.\n",
    "* Clean up the features we have.\n",
    "* Encode the categories\n",
    "* Run the model (Random Forest sounds good for this)\n",
    "* Look at the list of variables that contributed to the target column."
   ]
  },
  {
   "cell_type": "markdown",
   "id": "5a5ad213",
   "metadata": {},
   "source": [
    "### 3. Imports"
   ]
  },
  {
   "cell_type": "code",
   "execution_count": 1,
   "id": "86ac4e00",
   "metadata": {},
   "outputs": [],
   "source": [
    "import pandas as pd\n",
    "import numpy as np\n",
    "import matplotlib.pyplot as plt\n",
    "import seaborn as sns\n",
    "import numpy as np\n",
    "from datetime import datetime, timedelta\n",
    "from sklearn.model_selection import train_test_split, GridSearchCV\n",
    "from sklearn.ensemble import RandomForestClassifier\n",
    "from sklearn.metrics import accuracy_score"
   ]
  },
  {
   "cell_type": "markdown",
   "id": "57c183c2",
   "metadata": {},
   "source": [
    "### 4. Initial Data Loading\n",
    "There are two csv files.\n",
    "* loggin_data that will be converted to a feature column.\n",
    "* user_data that has the rest of the features of the data set."
   ]
  },
  {
   "cell_type": "code",
   "execution_count": 2,
   "id": "6f1351a5",
   "metadata": {},
   "outputs": [
    {
     "data": {
      "text/html": [
       "<div>\n",
       "<style scoped>\n",
       "    .dataframe tbody tr th:only-of-type {\n",
       "        vertical-align: middle;\n",
       "    }\n",
       "\n",
       "    .dataframe tbody tr th {\n",
       "        vertical-align: top;\n",
       "    }\n",
       "\n",
       "    .dataframe thead th {\n",
       "        text-align: right;\n",
       "    }\n",
       "</style>\n",
       "<table border=\"1\" class=\"dataframe\">\n",
       "  <thead>\n",
       "    <tr style=\"text-align: right;\">\n",
       "      <th></th>\n",
       "      <th>time_stamp</th>\n",
       "      <th>user_id</th>\n",
       "      <th>visited</th>\n",
       "    </tr>\n",
       "  </thead>\n",
       "  <tbody>\n",
       "    <tr>\n",
       "      <th>0</th>\n",
       "      <td>2014-04-22 03:53:30</td>\n",
       "      <td>1</td>\n",
       "      <td>1</td>\n",
       "    </tr>\n",
       "    <tr>\n",
       "      <th>1</th>\n",
       "      <td>2013-11-15 03:45:04</td>\n",
       "      <td>2</td>\n",
       "      <td>1</td>\n",
       "    </tr>\n",
       "    <tr>\n",
       "      <th>2</th>\n",
       "      <td>2013-11-29 03:45:04</td>\n",
       "      <td>2</td>\n",
       "      <td>1</td>\n",
       "    </tr>\n",
       "    <tr>\n",
       "      <th>3</th>\n",
       "      <td>2013-12-09 03:45:04</td>\n",
       "      <td>2</td>\n",
       "      <td>1</td>\n",
       "    </tr>\n",
       "    <tr>\n",
       "      <th>4</th>\n",
       "      <td>2013-12-25 03:45:04</td>\n",
       "      <td>2</td>\n",
       "      <td>1</td>\n",
       "    </tr>\n",
       "  </tbody>\n",
       "</table>\n",
       "</div>"
      ],
      "text/plain": [
       "            time_stamp  user_id  visited\n",
       "0  2014-04-22 03:53:30        1        1\n",
       "1  2013-11-15 03:45:04        2        1\n",
       "2  2013-11-29 03:45:04        2        1\n",
       "3  2013-12-09 03:45:04        2        1\n",
       "4  2013-12-25 03:45:04        2        1"
      ]
     },
     "execution_count": 2,
     "metadata": {},
     "output_type": "execute_result"
    }
   ],
   "source": [
    "# Let's take a look at the user engagement file\n",
    "loggin_data = pd.read_csv('takehome_user_engagement.csv')\n",
    "loggin_data.head()"
   ]
  },
  {
   "cell_type": "code",
   "execution_count": 3,
   "id": "15549abf",
   "metadata": {},
   "outputs": [
    {
     "data": {
      "text/html": [
       "<div>\n",
       "<style scoped>\n",
       "    .dataframe tbody tr th:only-of-type {\n",
       "        vertical-align: middle;\n",
       "    }\n",
       "\n",
       "    .dataframe tbody tr th {\n",
       "        vertical-align: top;\n",
       "    }\n",
       "\n",
       "    .dataframe thead th {\n",
       "        text-align: right;\n",
       "    }\n",
       "</style>\n",
       "<table border=\"1\" class=\"dataframe\">\n",
       "  <thead>\n",
       "    <tr style=\"text-align: right;\">\n",
       "      <th></th>\n",
       "      <th>object_id</th>\n",
       "      <th>creation_time</th>\n",
       "      <th>name</th>\n",
       "      <th>email</th>\n",
       "      <th>creation_source</th>\n",
       "      <th>last_session_creation_time</th>\n",
       "      <th>opted_in_to_mailing_list</th>\n",
       "      <th>enabled_for_marketing_drip</th>\n",
       "      <th>org_id</th>\n",
       "      <th>invited_by_user_id</th>\n",
       "    </tr>\n",
       "  </thead>\n",
       "  <tbody>\n",
       "    <tr>\n",
       "      <th>0</th>\n",
       "      <td>1</td>\n",
       "      <td>2014-04-22 03:53:30</td>\n",
       "      <td>Clausen August</td>\n",
       "      <td>AugustCClausen@yahoo.com</td>\n",
       "      <td>GUEST_INVITE</td>\n",
       "      <td>1.398139e+09</td>\n",
       "      <td>1</td>\n",
       "      <td>0</td>\n",
       "      <td>11</td>\n",
       "      <td>10803.0</td>\n",
       "    </tr>\n",
       "    <tr>\n",
       "      <th>1</th>\n",
       "      <td>2</td>\n",
       "      <td>2013-11-15 03:45:04</td>\n",
       "      <td>Poole Matthew</td>\n",
       "      <td>MatthewPoole@gustr.com</td>\n",
       "      <td>ORG_INVITE</td>\n",
       "      <td>1.396238e+09</td>\n",
       "      <td>0</td>\n",
       "      <td>0</td>\n",
       "      <td>1</td>\n",
       "      <td>316.0</td>\n",
       "    </tr>\n",
       "    <tr>\n",
       "      <th>2</th>\n",
       "      <td>3</td>\n",
       "      <td>2013-03-19 23:14:52</td>\n",
       "      <td>Bottrill Mitchell</td>\n",
       "      <td>MitchellBottrill@gustr.com</td>\n",
       "      <td>ORG_INVITE</td>\n",
       "      <td>1.363735e+09</td>\n",
       "      <td>0</td>\n",
       "      <td>0</td>\n",
       "      <td>94</td>\n",
       "      <td>1525.0</td>\n",
       "    </tr>\n",
       "    <tr>\n",
       "      <th>3</th>\n",
       "      <td>4</td>\n",
       "      <td>2013-05-21 08:09:28</td>\n",
       "      <td>Clausen Nicklas</td>\n",
       "      <td>NicklasSClausen@yahoo.com</td>\n",
       "      <td>GUEST_INVITE</td>\n",
       "      <td>1.369210e+09</td>\n",
       "      <td>0</td>\n",
       "      <td>0</td>\n",
       "      <td>1</td>\n",
       "      <td>5151.0</td>\n",
       "    </tr>\n",
       "    <tr>\n",
       "      <th>4</th>\n",
       "      <td>5</td>\n",
       "      <td>2013-01-17 10:14:20</td>\n",
       "      <td>Raw Grace</td>\n",
       "      <td>GraceRaw@yahoo.com</td>\n",
       "      <td>GUEST_INVITE</td>\n",
       "      <td>1.358850e+09</td>\n",
       "      <td>0</td>\n",
       "      <td>0</td>\n",
       "      <td>193</td>\n",
       "      <td>5240.0</td>\n",
       "    </tr>\n",
       "  </tbody>\n",
       "</table>\n",
       "</div>"
      ],
      "text/plain": [
       "   object_id        creation_time               name  \\\n",
       "0          1  2014-04-22 03:53:30     Clausen August   \n",
       "1          2  2013-11-15 03:45:04      Poole Matthew   \n",
       "2          3  2013-03-19 23:14:52  Bottrill Mitchell   \n",
       "3          4  2013-05-21 08:09:28    Clausen Nicklas   \n",
       "4          5  2013-01-17 10:14:20          Raw Grace   \n",
       "\n",
       "                        email creation_source  last_session_creation_time  \\\n",
       "0    AugustCClausen@yahoo.com    GUEST_INVITE                1.398139e+09   \n",
       "1      MatthewPoole@gustr.com      ORG_INVITE                1.396238e+09   \n",
       "2  MitchellBottrill@gustr.com      ORG_INVITE                1.363735e+09   \n",
       "3   NicklasSClausen@yahoo.com    GUEST_INVITE                1.369210e+09   \n",
       "4          GraceRaw@yahoo.com    GUEST_INVITE                1.358850e+09   \n",
       "\n",
       "   opted_in_to_mailing_list  enabled_for_marketing_drip  org_id  \\\n",
       "0                         1                           0      11   \n",
       "1                         0                           0       1   \n",
       "2                         0                           0      94   \n",
       "3                         0                           0       1   \n",
       "4                         0                           0     193   \n",
       "\n",
       "   invited_by_user_id  \n",
       "0             10803.0  \n",
       "1               316.0  \n",
       "2              1525.0  \n",
       "3              5151.0  \n",
       "4              5240.0  "
      ]
     },
     "execution_count": 3,
     "metadata": {},
     "output_type": "execute_result"
    }
   ],
   "source": [
    "# Let's take a look at the users\n",
    "user_data = pd.read_csv('takehome_users.csv')\n",
    "user_data.head()"
   ]
  },
  {
   "cell_type": "markdown",
   "id": "195e29bc",
   "metadata": {},
   "source": [
    "### 5. Initial Exploration\n",
    "* We want to get a feel for the data that we're working with\n",
    "* We also want to get a feel for our target variable"
   ]
  },
  {
   "cell_type": "code",
   "execution_count": 4,
   "id": "37efbe57",
   "metadata": {},
   "outputs": [
    {
     "data": {
      "text/html": [
       "<div>\n",
       "<style scoped>\n",
       "    .dataframe tbody tr th:only-of-type {\n",
       "        vertical-align: middle;\n",
       "    }\n",
       "\n",
       "    .dataframe tbody tr th {\n",
       "        vertical-align: top;\n",
       "    }\n",
       "\n",
       "    .dataframe thead th {\n",
       "        text-align: right;\n",
       "    }\n",
       "</style>\n",
       "<table border=\"1\" class=\"dataframe\">\n",
       "  <thead>\n",
       "    <tr style=\"text-align: right;\">\n",
       "      <th></th>\n",
       "      <th>time_stamp</th>\n",
       "      <th>user_id</th>\n",
       "      <th>visited</th>\n",
       "    </tr>\n",
       "  </thead>\n",
       "  <tbody>\n",
       "    <tr>\n",
       "      <th>0</th>\n",
       "      <td>2014-04-22 03:53:30</td>\n",
       "      <td>1</td>\n",
       "      <td>1</td>\n",
       "    </tr>\n",
       "    <tr>\n",
       "      <th>1</th>\n",
       "      <td>2013-11-15 03:45:04</td>\n",
       "      <td>2</td>\n",
       "      <td>1</td>\n",
       "    </tr>\n",
       "    <tr>\n",
       "      <th>2</th>\n",
       "      <td>2013-11-29 03:45:04</td>\n",
       "      <td>2</td>\n",
       "      <td>1</td>\n",
       "    </tr>\n",
       "    <tr>\n",
       "      <th>3</th>\n",
       "      <td>2013-12-09 03:45:04</td>\n",
       "      <td>2</td>\n",
       "      <td>1</td>\n",
       "    </tr>\n",
       "    <tr>\n",
       "      <th>4</th>\n",
       "      <td>2013-12-25 03:45:04</td>\n",
       "      <td>2</td>\n",
       "      <td>1</td>\n",
       "    </tr>\n",
       "  </tbody>\n",
       "</table>\n",
       "</div>"
      ],
      "text/plain": [
       "            time_stamp  user_id  visited\n",
       "0  2014-04-22 03:53:30        1        1\n",
       "1  2013-11-15 03:45:04        2        1\n",
       "2  2013-11-29 03:45:04        2        1\n",
       "3  2013-12-09 03:45:04        2        1\n",
       "4  2013-12-25 03:45:04        2        1"
      ]
     },
     "execution_count": 4,
     "metadata": {},
     "output_type": "execute_result"
    }
   ],
   "source": [
    "loggin_data.head()"
   ]
  },
  {
   "cell_type": "code",
   "execution_count": 5,
   "id": "a23ffca0",
   "metadata": {},
   "outputs": [
    {
     "data": {
      "text/plain": [
       "user_id\n",
       "1        False\n",
       "2         True\n",
       "3        False\n",
       "4        False\n",
       "5        False\n",
       "         ...  \n",
       "11996    False\n",
       "11997    False\n",
       "11998    False\n",
       "11999    False\n",
       "12000    False\n",
       "Name: visited, Length: 8823, dtype: bool"
      ]
     },
     "execution_count": 5,
     "metadata": {},
     "output_type": "execute_result"
    }
   ],
   "source": [
    "# Let's get a feel for our target variable.\n",
    "loggin_data.groupby('user_id')['visited'].sum() >= 3"
   ]
  },
  {
   "cell_type": "code",
   "execution_count": 6,
   "id": "d1904d4b",
   "metadata": {},
   "outputs": [
    {
     "data": {
      "text/plain": [
       "207917"
      ]
     },
     "execution_count": 6,
     "metadata": {},
     "output_type": "execute_result"
    }
   ],
   "source": [
    "# How much loggin data is there? \n",
    "len(loggin_data)"
   ]
  },
  {
   "cell_type": "code",
   "execution_count": 7,
   "id": "8224280d",
   "metadata": {},
   "outputs": [
    {
     "data": {
      "text/html": [
       "<div>\n",
       "<style scoped>\n",
       "    .dataframe tbody tr th:only-of-type {\n",
       "        vertical-align: middle;\n",
       "    }\n",
       "\n",
       "    .dataframe tbody tr th {\n",
       "        vertical-align: top;\n",
       "    }\n",
       "\n",
       "    .dataframe thead th {\n",
       "        text-align: right;\n",
       "    }\n",
       "</style>\n",
       "<table border=\"1\" class=\"dataframe\">\n",
       "  <thead>\n",
       "    <tr style=\"text-align: right;\">\n",
       "      <th></th>\n",
       "      <th>time_stamp</th>\n",
       "      <th>user_id</th>\n",
       "      <th>visited</th>\n",
       "    </tr>\n",
       "  </thead>\n",
       "  <tbody>\n",
       "    <tr>\n",
       "      <th>0</th>\n",
       "      <td>2014-04-22 03:53:30</td>\n",
       "      <td>1</td>\n",
       "      <td>1</td>\n",
       "    </tr>\n",
       "    <tr>\n",
       "      <th>1</th>\n",
       "      <td>2013-11-15 03:45:04</td>\n",
       "      <td>2</td>\n",
       "      <td>1</td>\n",
       "    </tr>\n",
       "    <tr>\n",
       "      <th>2</th>\n",
       "      <td>2013-11-29 03:45:04</td>\n",
       "      <td>2</td>\n",
       "      <td>1</td>\n",
       "    </tr>\n",
       "    <tr>\n",
       "      <th>3</th>\n",
       "      <td>2013-12-09 03:45:04</td>\n",
       "      <td>2</td>\n",
       "      <td>1</td>\n",
       "    </tr>\n",
       "    <tr>\n",
       "      <th>4</th>\n",
       "      <td>2013-12-25 03:45:04</td>\n",
       "      <td>2</td>\n",
       "      <td>1</td>\n",
       "    </tr>\n",
       "    <tr>\n",
       "      <th>...</th>\n",
       "      <td>...</td>\n",
       "      <td>...</td>\n",
       "      <td>...</td>\n",
       "    </tr>\n",
       "    <tr>\n",
       "      <th>96</th>\n",
       "      <td>2013-08-02 22:08:03</td>\n",
       "      <td>10</td>\n",
       "      <td>1</td>\n",
       "    </tr>\n",
       "    <tr>\n",
       "      <th>97</th>\n",
       "      <td>2013-08-03 22:08:03</td>\n",
       "      <td>10</td>\n",
       "      <td>1</td>\n",
       "    </tr>\n",
       "    <tr>\n",
       "      <th>98</th>\n",
       "      <td>2013-08-04 22:08:03</td>\n",
       "      <td>10</td>\n",
       "      <td>1</td>\n",
       "    </tr>\n",
       "    <tr>\n",
       "      <th>99</th>\n",
       "      <td>2013-08-06 22:08:03</td>\n",
       "      <td>10</td>\n",
       "      <td>1</td>\n",
       "    </tr>\n",
       "    <tr>\n",
       "      <th>100</th>\n",
       "      <td>2013-08-08 22:08:03</td>\n",
       "      <td>10</td>\n",
       "      <td>1</td>\n",
       "    </tr>\n",
       "  </tbody>\n",
       "</table>\n",
       "<p>101 rows × 3 columns</p>\n",
       "</div>"
      ],
      "text/plain": [
       "              time_stamp  user_id  visited\n",
       "0    2014-04-22 03:53:30        1        1\n",
       "1    2013-11-15 03:45:04        2        1\n",
       "2    2013-11-29 03:45:04        2        1\n",
       "3    2013-12-09 03:45:04        2        1\n",
       "4    2013-12-25 03:45:04        2        1\n",
       "..                   ...      ...      ...\n",
       "96   2013-08-02 22:08:03       10        1\n",
       "97   2013-08-03 22:08:03       10        1\n",
       "98   2013-08-04 22:08:03       10        1\n",
       "99   2013-08-06 22:08:03       10        1\n",
       "100  2013-08-08 22:08:03       10        1\n",
       "\n",
       "[101 rows x 3 columns]"
      ]
     },
     "execution_count": 7,
     "metadata": {},
     "output_type": "execute_result"
    }
   ],
   "source": [
    "# Are all of the loggins in numeric order?\n",
    "loggin_data.loc[0:100]"
   ]
  },
  {
   "cell_type": "code",
   "execution_count": 8,
   "id": "a190076b",
   "metadata": {},
   "outputs": [
    {
     "data": {
      "text/plain": [
       "visited\n",
       "1    207917\n",
       "Name: visited, dtype: int64"
      ]
     },
     "execution_count": 8,
     "metadata": {},
     "output_type": "execute_result"
    }
   ],
   "source": [
    "# Can you visit the website more that once at a time?\n",
    "loggin_data.groupby('visited')['visited'].count()"
   ]
  },
  {
   "cell_type": "code",
   "execution_count": 9,
   "id": "3b0b61c7",
   "metadata": {},
   "outputs": [
    {
     "data": {
      "text/plain": [
       "time_stamp    0\n",
       "user_id       0\n",
       "visited       0\n",
       "dtype: int64"
      ]
     },
     "execution_count": 9,
     "metadata": {},
     "output_type": "execute_result"
    }
   ],
   "source": [
    "# Let's see how many missing values we have.\n",
    "loggin_data.isnull().sum()"
   ]
  },
  {
   "cell_type": "markdown",
   "id": "45c34696",
   "metadata": {},
   "source": [
    "### 6. Creating the feature column"
   ]
  },
  {
   "cell_type": "code",
   "execution_count": 10,
   "id": "bfadf39c",
   "metadata": {},
   "outputs": [],
   "source": [
    "user_id_list = []\n",
    "adopted_user_list = []\n",
    "\n",
    "for  user_id in range(1,12001): # id's will go from 1 - 12000\n",
    "    # print(\"user_id\", user_id)\n",
    "    user_id_list.append(user_id)\n",
    "    adopted_user_value = False\n",
    "    my_list = loggin_data[loggin_data['user_id'] == user_id]['time_stamp']\n",
    "    length = len(my_list)\n",
    "    \n",
    "    if length < 3:\n",
    "        adopted_user_list.append(adopted_user_value)\n",
    "        # print('False list less than 3')\n",
    "    else:        \n",
    "        for i in range(length-2):\n",
    "            # print(\"i:\",i)\n",
    "            date1 = datetime.strptime(my_list.iloc[i], '%Y-%m-%d %H:%M:%S')\n",
    "            date2 = datetime.strptime(my_list.iloc[i + 2], '%Y-%m-%d %H:%M:%S')\n",
    "            date_difference = abs((date2 - date1).days)\n",
    "            if date_difference <= 7:\n",
    "                adopted_user_value = True\n",
    "                adopted_user_list.append(adopted_user_value)\n",
    "                # print('True')\n",
    "                break\n",
    "            if i == length-3:\n",
    "                adopted_user_list.append(adopted_user_value)\n",
    "                # print('False finished the loop')\n",
    "# print(user_id_list, adopted_user_list)"
   ]
  },
  {
   "cell_type": "code",
   "execution_count": 11,
   "id": "e03ed69a",
   "metadata": {},
   "outputs": [],
   "source": [
    "# Making a new data frame of the user_id and the feature.\n",
    "data = {\n",
    "    'user_id': user_id_list,\n",
    "    'adopted_user': adopted_user_list\n",
    "}\n",
    "\n",
    "predicted_df = pd.DataFrame(data)"
   ]
  },
  {
   "cell_type": "code",
   "execution_count": 12,
   "id": "f51d984e",
   "metadata": {},
   "outputs": [
    {
     "data": {
      "text/html": [
       "<div>\n",
       "<style scoped>\n",
       "    .dataframe tbody tr th:only-of-type {\n",
       "        vertical-align: middle;\n",
       "    }\n",
       "\n",
       "    .dataframe tbody tr th {\n",
       "        vertical-align: top;\n",
       "    }\n",
       "\n",
       "    .dataframe thead th {\n",
       "        text-align: right;\n",
       "    }\n",
       "</style>\n",
       "<table border=\"1\" class=\"dataframe\">\n",
       "  <thead>\n",
       "    <tr style=\"text-align: right;\">\n",
       "      <th></th>\n",
       "      <th>user_id</th>\n",
       "      <th>adopted_user</th>\n",
       "    </tr>\n",
       "  </thead>\n",
       "  <tbody>\n",
       "    <tr>\n",
       "      <th>0</th>\n",
       "      <td>1</td>\n",
       "      <td>False</td>\n",
       "    </tr>\n",
       "    <tr>\n",
       "      <th>1</th>\n",
       "      <td>2</td>\n",
       "      <td>True</td>\n",
       "    </tr>\n",
       "    <tr>\n",
       "      <th>2</th>\n",
       "      <td>3</td>\n",
       "      <td>False</td>\n",
       "    </tr>\n",
       "    <tr>\n",
       "      <th>3</th>\n",
       "      <td>4</td>\n",
       "      <td>False</td>\n",
       "    </tr>\n",
       "    <tr>\n",
       "      <th>4</th>\n",
       "      <td>5</td>\n",
       "      <td>False</td>\n",
       "    </tr>\n",
       "  </tbody>\n",
       "</table>\n",
       "</div>"
      ],
      "text/plain": [
       "   user_id  adopted_user\n",
       "0        1         False\n",
       "1        2          True\n",
       "2        3         False\n",
       "3        4         False\n",
       "4        5         False"
      ]
     },
     "execution_count": 12,
     "metadata": {},
     "output_type": "execute_result"
    }
   ],
   "source": [
    "predicted_df.head()"
   ]
  },
  {
   "cell_type": "code",
   "execution_count": 13,
   "id": "f0708dd0",
   "metadata": {},
   "outputs": [
    {
     "name": "stdout",
     "output_type": "stream",
     "text": [
      "(12000, 2)\n",
      "(12000, 10)\n"
     ]
    }
   ],
   "source": [
    "# These two need to have the same length in order to join them together. \n",
    "print(predicted_df.shape)\n",
    "print(user_data.shape)"
   ]
  },
  {
   "cell_type": "code",
   "execution_count": 14,
   "id": "ea5d951a",
   "metadata": {},
   "outputs": [
    {
     "name": "stdout",
     "output_type": "stream",
     "text": [
      "12000 12000\n"
     ]
    }
   ],
   "source": [
    "# Let's make sure that they have the same number of IDs as well.\n",
    "print(user_data['object_id'].max(), loggin_data['user_id'].max())"
   ]
  },
  {
   "cell_type": "code",
   "execution_count": 15,
   "id": "7073ceca",
   "metadata": {},
   "outputs": [],
   "source": [
    "# Adding on the feature column to the data frame\n",
    "user_data['adopted_user'] = predicted_df['adopted_user']"
   ]
  },
  {
   "cell_type": "code",
   "execution_count": 16,
   "id": "12bda147",
   "metadata": {},
   "outputs": [
    {
     "data": {
      "text/html": [
       "<div>\n",
       "<style scoped>\n",
       "    .dataframe tbody tr th:only-of-type {\n",
       "        vertical-align: middle;\n",
       "    }\n",
       "\n",
       "    .dataframe tbody tr th {\n",
       "        vertical-align: top;\n",
       "    }\n",
       "\n",
       "    .dataframe thead th {\n",
       "        text-align: right;\n",
       "    }\n",
       "</style>\n",
       "<table border=\"1\" class=\"dataframe\">\n",
       "  <thead>\n",
       "    <tr style=\"text-align: right;\">\n",
       "      <th></th>\n",
       "      <th>object_id</th>\n",
       "      <th>creation_time</th>\n",
       "      <th>name</th>\n",
       "      <th>email</th>\n",
       "      <th>creation_source</th>\n",
       "      <th>last_session_creation_time</th>\n",
       "      <th>opted_in_to_mailing_list</th>\n",
       "      <th>enabled_for_marketing_drip</th>\n",
       "      <th>org_id</th>\n",
       "      <th>invited_by_user_id</th>\n",
       "      <th>adopted_user</th>\n",
       "    </tr>\n",
       "  </thead>\n",
       "  <tbody>\n",
       "    <tr>\n",
       "      <th>0</th>\n",
       "      <td>1</td>\n",
       "      <td>2014-04-22 03:53:30</td>\n",
       "      <td>Clausen August</td>\n",
       "      <td>AugustCClausen@yahoo.com</td>\n",
       "      <td>GUEST_INVITE</td>\n",
       "      <td>1.398139e+09</td>\n",
       "      <td>1</td>\n",
       "      <td>0</td>\n",
       "      <td>11</td>\n",
       "      <td>10803.0</td>\n",
       "      <td>False</td>\n",
       "    </tr>\n",
       "    <tr>\n",
       "      <th>1</th>\n",
       "      <td>2</td>\n",
       "      <td>2013-11-15 03:45:04</td>\n",
       "      <td>Poole Matthew</td>\n",
       "      <td>MatthewPoole@gustr.com</td>\n",
       "      <td>ORG_INVITE</td>\n",
       "      <td>1.396238e+09</td>\n",
       "      <td>0</td>\n",
       "      <td>0</td>\n",
       "      <td>1</td>\n",
       "      <td>316.0</td>\n",
       "      <td>True</td>\n",
       "    </tr>\n",
       "    <tr>\n",
       "      <th>2</th>\n",
       "      <td>3</td>\n",
       "      <td>2013-03-19 23:14:52</td>\n",
       "      <td>Bottrill Mitchell</td>\n",
       "      <td>MitchellBottrill@gustr.com</td>\n",
       "      <td>ORG_INVITE</td>\n",
       "      <td>1.363735e+09</td>\n",
       "      <td>0</td>\n",
       "      <td>0</td>\n",
       "      <td>94</td>\n",
       "      <td>1525.0</td>\n",
       "      <td>False</td>\n",
       "    </tr>\n",
       "    <tr>\n",
       "      <th>3</th>\n",
       "      <td>4</td>\n",
       "      <td>2013-05-21 08:09:28</td>\n",
       "      <td>Clausen Nicklas</td>\n",
       "      <td>NicklasSClausen@yahoo.com</td>\n",
       "      <td>GUEST_INVITE</td>\n",
       "      <td>1.369210e+09</td>\n",
       "      <td>0</td>\n",
       "      <td>0</td>\n",
       "      <td>1</td>\n",
       "      <td>5151.0</td>\n",
       "      <td>False</td>\n",
       "    </tr>\n",
       "    <tr>\n",
       "      <th>4</th>\n",
       "      <td>5</td>\n",
       "      <td>2013-01-17 10:14:20</td>\n",
       "      <td>Raw Grace</td>\n",
       "      <td>GraceRaw@yahoo.com</td>\n",
       "      <td>GUEST_INVITE</td>\n",
       "      <td>1.358850e+09</td>\n",
       "      <td>0</td>\n",
       "      <td>0</td>\n",
       "      <td>193</td>\n",
       "      <td>5240.0</td>\n",
       "      <td>False</td>\n",
       "    </tr>\n",
       "  </tbody>\n",
       "</table>\n",
       "</div>"
      ],
      "text/plain": [
       "   object_id        creation_time               name  \\\n",
       "0          1  2014-04-22 03:53:30     Clausen August   \n",
       "1          2  2013-11-15 03:45:04      Poole Matthew   \n",
       "2          3  2013-03-19 23:14:52  Bottrill Mitchell   \n",
       "3          4  2013-05-21 08:09:28    Clausen Nicklas   \n",
       "4          5  2013-01-17 10:14:20          Raw Grace   \n",
       "\n",
       "                        email creation_source  last_session_creation_time  \\\n",
       "0    AugustCClausen@yahoo.com    GUEST_INVITE                1.398139e+09   \n",
       "1      MatthewPoole@gustr.com      ORG_INVITE                1.396238e+09   \n",
       "2  MitchellBottrill@gustr.com      ORG_INVITE                1.363735e+09   \n",
       "3   NicklasSClausen@yahoo.com    GUEST_INVITE                1.369210e+09   \n",
       "4          GraceRaw@yahoo.com    GUEST_INVITE                1.358850e+09   \n",
       "\n",
       "   opted_in_to_mailing_list  enabled_for_marketing_drip  org_id  \\\n",
       "0                         1                           0      11   \n",
       "1                         0                           0       1   \n",
       "2                         0                           0      94   \n",
       "3                         0                           0       1   \n",
       "4                         0                           0     193   \n",
       "\n",
       "   invited_by_user_id  adopted_user  \n",
       "0             10803.0         False  \n",
       "1               316.0          True  \n",
       "2              1525.0         False  \n",
       "3              5151.0         False  \n",
       "4              5240.0         False  "
      ]
     },
     "execution_count": 16,
     "metadata": {},
     "output_type": "execute_result"
    }
   ],
   "source": [
    "user_data.head()"
   ]
  },
  {
   "cell_type": "code",
   "execution_count": 41,
   "id": "c4e588a0",
   "metadata": {},
   "outputs": [
    {
     "name": "stderr",
     "output_type": "stream",
     "text": [
      "/var/folders/b0/x4p60r3n3dz3lbgp1_bgg05h0000gn/T/ipykernel_6842/1095430233.py:2: FutureWarning: The default value of numeric_only in DataFrame.corr is deprecated. In a future version, it will default to False. Select only valid columns or specify the value of numeric_only to silence this warning.\n",
      "  correlation_matrix = user_data.corr()\n"
     ]
    },
    {
     "data": {
      "image/png": "[encoded data removed]",
      "text/plain": [
       "<Figure size 1000x800 with 2 Axes>"
      ]
     },
     "metadata": {},
     "output_type": "display_data"
    }
   ],
   "source": [
    "# Let's take a look at all of the relationships with the target variable and our other features. \n",
    "correlation_matrix = user_data.corr()\n",
    "\n",
    "# Create a heatmap of the correlation matrix\n",
    "plt.figure(figsize=(10, 8))\n",
    "sns.heatmap(correlation_matrix, annot=True, cmap='coolwarm', center=0)\n",
    "plt.title(\"Correlation Matrix Heatmap\")\n",
    "plt.show()"
   ]
  },
  {
   "cell_type": "markdown",
   "id": "dc677e4e",
   "metadata": {},
   "source": [
    "### 7. Features"
   ]
  },
  {
   "cell_type": "code",
   "execution_count": 18,
   "id": "f3bdc821",
   "metadata": {},
   "outputs": [
    {
     "data": {
      "text/plain": [
       "Index(['object_id', 'creation_time', 'name', 'email', 'creation_source',\n",
       "       'last_session_creation_time', 'opted_in_to_mailing_list',\n",
       "       'enabled_for_marketing_drip', 'org_id', 'invited_by_user_id',\n",
       "       'adopted_user'],\n",
       "      dtype='object')"
      ]
     },
     "execution_count": 18,
     "metadata": {},
     "output_type": "execute_result"
    }
   ],
   "source": [
    "# We will need to go through and deal with missing values, and zeros\n",
    "# We will need to encode creation source\n",
    "# We will need to drop the object id, creation time, name, email\n",
    "user_data.columns"
   ]
  },
  {
   "cell_type": "code",
   "execution_count": 19,
   "id": "373ae0f7",
   "metadata": {},
   "outputs": [
    {
     "data": {
      "text/plain": [
       "creation_source\n",
       "GUEST_INVITE          2163\n",
       "ORG_INVITE            4254\n",
       "PERSONAL_PROJECTS     2111\n",
       "SIGNUP                2087\n",
       "SIGNUP_GOOGLE_AUTH    1385\n",
       "Name: creation_source, dtype: int64"
      ]
     },
     "execution_count": 19,
     "metadata": {},
     "output_type": "execute_result"
    }
   ],
   "source": [
    "# Fixing Creation source\n",
    "user_data.groupby('creation_source')['creation_source'].count()"
   ]
  },
  {
   "cell_type": "code",
   "execution_count": 20,
   "id": "681034ba",
   "metadata": {},
   "outputs": [
    {
     "data": {
      "image/png": "[encoded data removed]",
      "text/plain": [
       "<Figure size 640x480 with 1 Axes>"
      ]
     },
     "metadata": {},
     "output_type": "display_data"
    }
   ],
   "source": [
    "# Let's see the distribution of cell types\n",
    "_ = plt.hist(user_data['creation_source'], bins=4, edgecolor='k')\n",
    "_ = plt.xlabel('Creation Source')\n",
    "_ = plt.ylabel('Count')\n",
    "plt.show()"
   ]
  },
  {
   "cell_type": "code",
   "execution_count": 21,
   "id": "a7741778",
   "metadata": {},
   "outputs": [],
   "source": [
    "# Let's make sure there are no NA values in last_session_creation_time.\n",
    "user_data['last_session_creation_time'] = user_data['last_session_creation_time'].fillna(0.0)"
   ]
  },
  {
   "cell_type": "code",
   "execution_count": 22,
   "id": "f40d8843",
   "metadata": {},
   "outputs": [
    {
     "data": {
      "text/plain": [
       "opted_in_to_mailing_list\n",
       "0    9006\n",
       "1    2994\n",
       "Name: opted_in_to_mailing_list, dtype: int64"
      ]
     },
     "execution_count": 22,
     "metadata": {},
     "output_type": "execute_result"
    }
   ],
   "source": [
    "# Quick count to make sure we have the correct number of opted_in_to_mailing_list\n",
    "user_data.groupby('opted_in_to_mailing_list')['opted_in_to_mailing_list'].count()"
   ]
  },
  {
   "cell_type": "code",
   "execution_count": 23,
   "id": "f35ce6ee",
   "metadata": {},
   "outputs": [
    {
     "data": {
      "image/png": "[encoded data removed]",
      "text/plain": [
       "<Figure size 640x480 with 1 Axes>"
      ]
     },
     "metadata": {},
     "output_type": "display_data"
    }
   ],
   "source": [
    "# Let's see the distribution of cell types\n",
    "_ = plt.hist(user_data['opted_in_to_mailing_list'], bins=2, edgecolor='k')\n",
    "_ = plt.xlabel('Opted In')\n",
    "_ = plt.ylabel('Count')\n",
    "plt.show()"
   ]
  },
  {
   "cell_type": "code",
   "execution_count": 24,
   "id": "2697feb6",
   "metadata": {},
   "outputs": [
    {
     "data": {
      "text/plain": [
       "enabled_for_marketing_drip\n",
       "0    10208\n",
       "1     1792\n",
       "Name: enabled_for_marketing_drip, dtype: int64"
      ]
     },
     "execution_count": 24,
     "metadata": {},
     "output_type": "execute_result"
    }
   ],
   "source": [
    "# Quick count to make sure we have the correct number of enabled_for_marketing_drip.\n",
    "user_data.groupby('enabled_for_marketing_drip')['enabled_for_marketing_drip'].count()"
   ]
  },
  {
   "cell_type": "code",
   "execution_count": 25,
   "id": "c5393987",
   "metadata": {},
   "outputs": [
    {
     "data": {
      "image/png": "[encoded data removed]",
      "text/plain": [
       "<Figure size 640x480 with 1 Axes>"
      ]
     },
     "metadata": {},
     "output_type": "display_data"
    }
   ],
   "source": [
    "# Let's see the distribution of cell types\n",
    "_ = plt.hist(user_data['enabled_for_marketing_drip'], bins=2, edgecolor='k')\n",
    "_ = plt.xlabel('Marketing Drip')\n",
    "_ = plt.ylabel('Count')\n",
    "plt.show()"
   ]
  },
  {
   "cell_type": "code",
   "execution_count": 26,
   "id": "629a5d90",
   "metadata": {},
   "outputs": [
    {
     "data": {
      "text/plain": [
       "org_id\n",
       "0      319\n",
       "1      233\n",
       "2      201\n",
       "3      168\n",
       "4      159\n",
       "      ... \n",
       "412     17\n",
       "413     16\n",
       "414     20\n",
       "415     16\n",
       "416      2\n",
       "Name: org_id, Length: 417, dtype: int64"
      ]
     },
     "execution_count": 26,
     "metadata": {},
     "output_type": "execute_result"
    }
   ],
   "source": [
    "# How many Org Ids are there anyway? \n",
    "user_data.groupby('org_id')['org_id'].count()"
   ]
  },
  {
   "cell_type": "code",
   "execution_count": 27,
   "id": "e4563853",
   "metadata": {},
   "outputs": [
    {
     "name": "stdout",
     "output_type": "stream",
     "text": [
      "0\n"
     ]
    }
   ],
   "source": [
    "# How many null org_id's do we have?\n",
    "print(user_data['org_id'].isnull().sum())"
   ]
  },
  {
   "cell_type": "code",
   "execution_count": 28,
   "id": "f23d6d1e",
   "metadata": {},
   "outputs": [
    {
     "data": {
      "text/plain": [
       "invited_by_user_id\n",
       "3.0        1\n",
       "7.0        5\n",
       "10.0       1\n",
       "21.0       1\n",
       "23.0       3\n",
       "          ..\n",
       "11981.0    1\n",
       "11986.0    1\n",
       "11994.0    7\n",
       "11997.0    1\n",
       "11999.0    7\n",
       "Name: invited_by_user_id, Length: 2564, dtype: int64"
      ]
     },
     "execution_count": 28,
     "metadata": {},
     "output_type": "execute_result"
    }
   ],
   "source": [
    "# How many invited_by_users do we have? \n",
    "user_data.groupby('invited_by_user_id')['invited_by_user_id'].count()"
   ]
  },
  {
   "cell_type": "code",
   "execution_count": 29,
   "id": "9482f8dd",
   "metadata": {},
   "outputs": [
    {
     "name": "stdout",
     "output_type": "stream",
     "text": [
      "5583\n"
     ]
    }
   ],
   "source": [
    "# Let's see how many null values are invited_by_user\n",
    "null_count = user_data['invited_by_user_id'].isnull().sum()\n",
    "print(null_count)"
   ]
  },
  {
   "cell_type": "code",
   "execution_count": 30,
   "id": "3e49bd01",
   "metadata": {},
   "outputs": [],
   "source": [
    "user_data['invited_by_user_id'] = user_data['invited_by_user_id'].fillna(0.0)"
   ]
  },
  {
   "cell_type": "code",
   "execution_count": 31,
   "id": "e0e7d685",
   "metadata": {},
   "outputs": [
    {
     "data": {
      "text/plain": [
       "adopted_user\n",
       "False    10344\n",
       "True      1656\n",
       "Name: adopted_user, dtype: int64"
      ]
     },
     "execution_count": 31,
     "metadata": {},
     "output_type": "execute_result"
    }
   ],
   "source": [
    "user_data.groupby('adopted_user')['adopted_user'].count()"
   ]
  },
  {
   "cell_type": "code",
   "execution_count": 32,
   "id": "58d26155",
   "metadata": {},
   "outputs": [],
   "source": [
    "# We will need to drop the object id, creation time, name, email\n",
    "columns_to_drop = ['object_id', 'creation_time', 'name', 'email']\n",
    "df = user_data.drop(columns_to_drop, axis=1)"
   ]
  },
  {
   "cell_type": "code",
   "execution_count": 33,
   "id": "2e61a4d0",
   "metadata": {},
   "outputs": [
    {
     "data": {
      "text/html": [
       "<div>\n",
       "<style scoped>\n",
       "    .dataframe tbody tr th:only-of-type {\n",
       "        vertical-align: middle;\n",
       "    }\n",
       "\n",
       "    .dataframe tbody tr th {\n",
       "        vertical-align: top;\n",
       "    }\n",
       "\n",
       "    .dataframe thead th {\n",
       "        text-align: right;\n",
       "    }\n",
       "</style>\n",
       "<table border=\"1\" class=\"dataframe\">\n",
       "  <thead>\n",
       "    <tr style=\"text-align: right;\">\n",
       "      <th></th>\n",
       "      <th>last_session_creation_time</th>\n",
       "      <th>opted_in_to_mailing_list</th>\n",
       "      <th>enabled_for_marketing_drip</th>\n",
       "      <th>org_id</th>\n",
       "      <th>invited_by_user_id</th>\n",
       "      <th>adopted_user</th>\n",
       "      <th>creation_source_GUEST_INVITE</th>\n",
       "      <th>creation_source_ORG_INVITE</th>\n",
       "      <th>creation_source_PERSONAL_PROJECTS</th>\n",
       "      <th>creation_source_SIGNUP</th>\n",
       "      <th>creation_source_SIGNUP_GOOGLE_AUTH</th>\n",
       "    </tr>\n",
       "  </thead>\n",
       "  <tbody>\n",
       "    <tr>\n",
       "      <th>0</th>\n",
       "      <td>1.398139e+09</td>\n",
       "      <td>1</td>\n",
       "      <td>0</td>\n",
       "      <td>11</td>\n",
       "      <td>10803.0</td>\n",
       "      <td>False</td>\n",
       "      <td>1</td>\n",
       "      <td>0</td>\n",
       "      <td>0</td>\n",
       "      <td>0</td>\n",
       "      <td>0</td>\n",
       "    </tr>\n",
       "    <tr>\n",
       "      <th>1</th>\n",
       "      <td>1.396238e+09</td>\n",
       "      <td>0</td>\n",
       "      <td>0</td>\n",
       "      <td>1</td>\n",
       "      <td>316.0</td>\n",
       "      <td>True</td>\n",
       "      <td>0</td>\n",
       "      <td>1</td>\n",
       "      <td>0</td>\n",
       "      <td>0</td>\n",
       "      <td>0</td>\n",
       "    </tr>\n",
       "    <tr>\n",
       "      <th>2</th>\n",
       "      <td>1.363735e+09</td>\n",
       "      <td>0</td>\n",
       "      <td>0</td>\n",
       "      <td>94</td>\n",
       "      <td>1525.0</td>\n",
       "      <td>False</td>\n",
       "      <td>0</td>\n",
       "      <td>1</td>\n",
       "      <td>0</td>\n",
       "      <td>0</td>\n",
       "      <td>0</td>\n",
       "    </tr>\n",
       "    <tr>\n",
       "      <th>3</th>\n",
       "      <td>1.369210e+09</td>\n",
       "      <td>0</td>\n",
       "      <td>0</td>\n",
       "      <td>1</td>\n",
       "      <td>5151.0</td>\n",
       "      <td>False</td>\n",
       "      <td>1</td>\n",
       "      <td>0</td>\n",
       "      <td>0</td>\n",
       "      <td>0</td>\n",
       "      <td>0</td>\n",
       "    </tr>\n",
       "    <tr>\n",
       "      <th>4</th>\n",
       "      <td>1.358850e+09</td>\n",
       "      <td>0</td>\n",
       "      <td>0</td>\n",
       "      <td>193</td>\n",
       "      <td>5240.0</td>\n",
       "      <td>False</td>\n",
       "      <td>1</td>\n",
       "      <td>0</td>\n",
       "      <td>0</td>\n",
       "      <td>0</td>\n",
       "      <td>0</td>\n",
       "    </tr>\n",
       "  </tbody>\n",
       "</table>\n",
       "</div>"
      ],
      "text/plain": [
       "   last_session_creation_time  opted_in_to_mailing_list  \\\n",
       "0                1.398139e+09                         1   \n",
       "1                1.396238e+09                         0   \n",
       "2                1.363735e+09                         0   \n",
       "3                1.369210e+09                         0   \n",
       "4                1.358850e+09                         0   \n",
       "\n",
       "   enabled_for_marketing_drip  org_id  invited_by_user_id  adopted_user  \\\n",
       "0                           0      11             10803.0         False   \n",
       "1                           0       1               316.0          True   \n",
       "2                           0      94              1525.0         False   \n",
       "3                           0       1              5151.0         False   \n",
       "4                           0     193              5240.0         False   \n",
       "\n",
       "   creation_source_GUEST_INVITE  creation_source_ORG_INVITE  \\\n",
       "0                             1                           0   \n",
       "1                             0                           1   \n",
       "2                             0                           1   \n",
       "3                             1                           0   \n",
       "4                             1                           0   \n",
       "\n",
       "   creation_source_PERSONAL_PROJECTS  creation_source_SIGNUP  \\\n",
       "0                                  0                       0   \n",
       "1                                  0                       0   \n",
       "2                                  0                       0   \n",
       "3                                  0                       0   \n",
       "4                                  0                       0   \n",
       "\n",
       "   creation_source_SIGNUP_GOOGLE_AUTH  \n",
       "0                                   0  \n",
       "1                                   0  \n",
       "2                                   0  \n",
       "3                                   0  \n",
       "4                                   0  "
      ]
     },
     "execution_count": 33,
     "metadata": {},
     "output_type": "execute_result"
    }
   ],
   "source": [
    "# We will need to encode creation source\n",
    "\n",
    "# Assuming df is your DataFrame\n",
    "categorical_column = 'Categorical_Column'\n",
    "\n",
    "# Perform one-hot encoding\n",
    "encoded_df = pd.get_dummies(df, columns=['creation_source'], prefix=['creation_source'])\n",
    "\n",
    "encoded_df.head()"
   ]
  },
  {
   "cell_type": "code",
   "execution_count": 34,
   "id": "c00cdf31",
   "metadata": {},
   "outputs": [
    {
     "data": {
      "text/plain": [
       "last_session_creation_time            0\n",
       "opted_in_to_mailing_list              0\n",
       "enabled_for_marketing_drip            0\n",
       "org_id                                0\n",
       "invited_by_user_id                    0\n",
       "adopted_user                          0\n",
       "creation_source_GUEST_INVITE          0\n",
       "creation_source_ORG_INVITE            0\n",
       "creation_source_PERSONAL_PROJECTS     0\n",
       "creation_source_SIGNUP                0\n",
       "creation_source_SIGNUP_GOOGLE_AUTH    0\n",
       "dtype: int64"
      ]
     },
     "execution_count": 34,
     "metadata": {},
     "output_type": "execute_result"
    }
   ],
   "source": [
    "encoded_df[encoded_df.isnull()].count()"
   ]
  },
  {
   "cell_type": "markdown",
   "id": "239b667d",
   "metadata": {},
   "source": [
    "### 8. Modeling"
   ]
  },
  {
   "cell_type": "code",
   "execution_count": 35,
   "id": "a476d449",
   "metadata": {},
   "outputs": [],
   "source": [
    "# Since the prompt is asking for a list of contributing features, this really screams Random Forest."
   ]
  },
  {
   "cell_type": "code",
   "execution_count": 36,
   "id": "c1f24891",
   "metadata": {},
   "outputs": [],
   "source": [
    "X = encoded_df.drop('adopted_user', axis=1)\n",
    "y = encoded_df['adopted_user']\n",
    "X_train, X_test, y_train, y_test = train_test_split(X, y, test_size=0.2, random_state=42) \n",
    "feature_names = [i for i in range(10)]"
   ]
  },
  {
   "cell_type": "code",
   "execution_count": 37,
   "id": "8113fb1a",
   "metadata": {},
   "outputs": [
    {
     "name": "stdout",
     "output_type": "stream",
     "text": [
      "last_session_creation_time            0\n",
      "opted_in_to_mailing_list              0\n",
      "enabled_for_marketing_drip            0\n",
      "org_id                                0\n",
      "invited_by_user_id                    0\n",
      "creation_source_GUEST_INVITE          0\n",
      "creation_source_ORG_INVITE            0\n",
      "creation_source_PERSONAL_PROJECTS     0\n",
      "creation_source_SIGNUP                0\n",
      "creation_source_SIGNUP_GOOGLE_AUTH    0\n",
      "dtype: int64\n"
     ]
    }
   ],
   "source": [
    "# Assuming df is your DataFrame\n",
    "null_values = X.isnull()\n",
    "\n",
    "# Count the number of null values in each column\n",
    "null_count_per_column = null_values.sum()\n",
    "\n",
    "print(null_count_per_column)"
   ]
  },
  {
   "cell_type": "code",
   "execution_count": 38,
   "id": "69e37ad2",
   "metadata": {},
   "outputs": [
    {
     "name": "stdout",
     "output_type": "stream",
     "text": [
      "Best Parameters: {'max_depth': 10, 'min_samples_leaf': 4, 'min_samples_split': 10, 'n_estimators': 50}\n",
      "Test Accuracy: 0.91375\n"
     ]
    }
   ],
   "source": [
    "# Create a Random Forest classifier\n",
    "random_forest = RandomForestClassifier(random_state=42)\n",
    "\n",
    "# Define the parameter grid for grid search\n",
    "param_grid = {\n",
    "    'n_estimators': [50, 100, 200],\n",
    "    'max_depth': [None, 10, 20],\n",
    "    'min_samples_split': [2, 5, 10],\n",
    "    'min_samples_leaf': [1, 2, 4]\n",
    "}\n",
    "\n",
    "# Initialize GridSearchCV with accuracy as the scoring metric\n",
    "grid_search = GridSearchCV(random_forest, param_grid, cv=5, scoring='accuracy')\n",
    "\n",
    "# Fit the grid search to your training data\n",
    "grid_search.fit(X_train, y_train)\n",
    "\n",
    "# Get the best parameters and the best estimator from grid search\n",
    "best_params = grid_search.best_params_\n",
    "best_rf = grid_search.best_estimator_\n",
    "\n",
    "# Evaluate the best model on your test data\n",
    "y_pred = best_rf.predict(X_test)\n",
    "accuracy = accuracy_score(y_test, y_pred)\n",
    "\n",
    "print(\"Best Parameters:\", best_params)\n",
    "print(\"Test Accuracy:\", accuracy)\n"
   ]
  },
  {
   "cell_type": "code",
   "execution_count": 39,
   "id": "085d4c71",
   "metadata": {},
   "outputs": [
    {
     "name": "stdout",
     "output_type": "stream",
     "text": [
      "Feature Importances:\n",
      "0: 0.8763631607939225\n",
      "3: 0.06404044073512331\n",
      "4: 0.033774291637366345\n",
      "7: 0.006117350363084708\n",
      "1: 0.004703758048080987\n",
      "2: 0.004377198570480068\n",
      "5: 0.0033161522558693844\n",
      "6: 0.002563267712756153\n",
      "9: 0.0023996232039213907\n",
      "8: 0.002344756679395164\n"
     ]
    }
   ],
   "source": [
    "# Create a Random Forest classifier\n",
    "random_forest = RandomForestClassifier(n_estimators=50, max_depth=10, min_samples_leaf= 4, min_samples_split=10, random_state=42)\n",
    "\n",
    "# Train the classifier on the training data\n",
    "random_forest.fit(X_train, y_train)\n",
    "\n",
    "# Get feature importances from the trained model\n",
    "feature_importances = random_forest.feature_importances_\n",
    "\n",
    "# Sort the features based on their importances\n",
    "sorted_indices = np.argsort(feature_importances)[::-1]\n",
    "\n",
    "# Print the importance scores and feature names\n",
    "print(\"Feature Importances:\")\n",
    "for idx in sorted_indices:\n",
    "    print(f\"{feature_names[idx]}: {feature_importances[idx]}\")"
   ]
  },
  {
   "cell_type": "code",
   "execution_count": 40,
   "id": "6e5a8463",
   "metadata": {},
   "outputs": [
    {
     "data": {
      "text/plain": [
       "('last_session_creation_time',\n",
       " 'org_id',\n",
       " 'invited_by_user_id',\n",
       " 'creation_source_PERSONAL_PROJECTS',\n",
       " 'opted_in_to_mailing_list')"
      ]
     },
     "execution_count": 40,
     "metadata": {},
     "output_type": "execute_result"
    }
   ],
   "source": [
    "X.columns[0], X.columns[3], X.columns[4], X.columns[7], X.columns[1]"
   ]
  },
  {
   "cell_type": "markdown",
   "id": "63c22708",
   "metadata": {},
   "source": [
    "### 9. Explanation and Conclusions"
   ]
  },
  {
   "cell_type": "markdown",
   "id": "6342e861",
   "metadata": {},
   "source": [
    "The problem that we were to solve from the business was the define and adopted_user, which is a user who had visited 3 times in a week. We were only supposed to spend 2-4 hours on this and then turn in what we had. I went a little above and beyond and worked on it for about 6 hours.\n",
    "\n",
    "\n",
    "The first thing, after imports, we did was explore the different data sets. (Steps 3-4)\n",
    "\n",
    "\n",
    "It was easy to conclude that a list of loggins would help us determine if a user had been visiting 3 times within a week. The next step was to see if the data was already sorted. It was. (Step 5)\n",
    "\n",
    "We used these clues to create the feature column in (Step 6).\n",
    "\n",
    "The next thing that we did was look at the rest of the features in the data set. We looked at some of their distributions and fixed any missing and null values. (Step 7)\n",
    "\n",
    "We used the Grid Search method to optimize the Random Forest model, and once that was done, we went with the best version of the model using Accuracy as our rubric. (Step 8)\n",
    "\n",
    "Now we're writting up an explanation for what we did, and will continue with our business recommendations in the next couple of boxes."
   ]
  },
  {
   "cell_type": "markdown",
   "id": "d9f52ee1",
   "metadata": {},
   "source": [
    "### 10. Next Steps"
   ]
  },
  {
   "cell_type": "markdown",
   "id": "1c0a152b",
   "metadata": {},
   "source": [
    "The most important feature is if the person has a session creation time, and then if they belong to an organization, if they were invited by another user, and if they came from the Personal Projects creation point.\n",
    "\n",
    "* I recommend that the business create an incentive to invite other users to their platform.\n",
    "* I recommend that the business create an incentive program for users to belong to organizations.\n",
    "* I also think that the business could create some templates for personal projects that would insentivise people to use their platform."
   ]
  }
 ],
 "metadata": {
  "kernelspec": {
   "display_name": "Python 3 (ipykernel)",
   "language": "python",
   "name": "python3"
  },
  "language_info": {
   "codemirror_mode": {
    "name": "ipython",
    "version": 3
   },
   "file_extension": ".py",
   "mimetype": "text/x-python",
   "name": "python",
   "nbconvert_exporter": "python",
   "pygments_lexer": "ipython3",
   "version": "3.9.12"
  }
 },
 "nbformat": 4,
 "nbformat_minor": 5
}
